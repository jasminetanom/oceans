{
 "cells": [
  {
   "cell_type": "code",
   "execution_count": 20,
   "metadata": {},
   "outputs": [],
   "source": [
    "import pandas as pd\n",
    "import numpy as np"
   ]
  },
  {
   "cell_type": "code",
   "execution_count": 24,
   "metadata": {},
   "outputs": [],
   "source": [
    "df = pd.read_csv(\"data/overfishing.csv\")"
   ]
  },
  {
   "cell_type": "code",
   "execution_count": 25,
   "metadata": {},
   "outputs": [],
   "source": [
    "df = df.T.rename(columns={0: \"fully_exploited\", 1: \"not_fully_exploited\", 2: \"overexploited\"})"
   ]
  },
  {
   "cell_type": "code",
   "execution_count": 26,
   "metadata": {},
   "outputs": [
    {
     "data": {
      "text/html": [
       "<div>\n",
       "<style scoped>\n",
       "    .dataframe tbody tr th:only-of-type {\n",
       "        vertical-align: middle;\n",
       "    }\n",
       "\n",
       "    .dataframe tbody tr th {\n",
       "        vertical-align: top;\n",
       "    }\n",
       "\n",
       "    .dataframe thead th {\n",
       "        text-align: right;\n",
       "    }\n",
       "</style>\n",
       "<table border=\"1\" class=\"dataframe\">\n",
       "  <thead>\n",
       "    <tr style=\"text-align: right;\">\n",
       "      <th></th>\n",
       "      <th>fully_exploited</th>\n",
       "      <th>not_fully_exploited</th>\n",
       "      <th>overexploited</th>\n",
       "    </tr>\n",
       "  </thead>\n",
       "  <tbody>\n",
       "    <tr>\n",
       "      <th>1983</th>\n",
       "      <td>52.67</td>\n",
       "      <td>30.67</td>\n",
       "      <td>16.67</td>\n",
       "    </tr>\n",
       "    <tr>\n",
       "      <th>1984</th>\n",
       "      <td>52.67</td>\n",
       "      <td>30.67</td>\n",
       "      <td>16.67</td>\n",
       "    </tr>\n",
       "    <tr>\n",
       "      <th>1985</th>\n",
       "      <td>50.27</td>\n",
       "      <td>31.55</td>\n",
       "      <td>18.18</td>\n",
       "    </tr>\n",
       "    <tr>\n",
       "      <th>1986</th>\n",
       "      <td>50.27</td>\n",
       "      <td>31.55</td>\n",
       "      <td>18.18</td>\n",
       "    </tr>\n",
       "    <tr>\n",
       "      <th>1987</th>\n",
       "      <td>43.98</td>\n",
       "      <td>31.41</td>\n",
       "      <td>24.61</td>\n",
       "    </tr>\n",
       "  </tbody>\n",
       "</table>\n",
       "</div>"
      ],
      "text/plain": [
       "      fully_exploited  not_fully_exploited  overexploited\n",
       "1983            52.67                30.67          16.67\n",
       "1984            52.67                30.67          16.67\n",
       "1985            50.27                31.55          18.18\n",
       "1986            50.27                31.55          18.18\n",
       "1987            43.98                31.41          24.61"
      ]
     },
     "execution_count": 26,
     "metadata": {},
     "output_type": "execute_result"
    }
   ],
   "source": [
    "df.head()"
   ]
  },
  {
   "cell_type": "code",
   "execution_count": 27,
   "metadata": {},
   "outputs": [
    {
     "data": {
      "text/plain": [
       "['1983',\n",
       " '1984',\n",
       " '1985',\n",
       " '1986',\n",
       " '1987',\n",
       " '1988',\n",
       " '1989',\n",
       " '1990',\n",
       " '1991',\n",
       " '1992',\n",
       " '1993',\n",
       " '1994',\n",
       " '1995',\n",
       " '1996',\n",
       " '1997',\n",
       " '1998',\n",
       " '1999',\n",
       " '2000',\n",
       " '2001',\n",
       " '2002',\n",
       " '2003',\n",
       " '2004',\n",
       " '2005',\n",
       " '2006',\n",
       " '2007',\n",
       " '2008',\n",
       " '2009',\n",
       " '2010',\n",
       " '2011',\n",
       " '2012',\n",
       " '2013']"
      ]
     },
     "execution_count": 27,
     "metadata": {},
     "output_type": "execute_result"
    }
   ],
   "source": [
    "list(df.index.values)"
   ]
  },
  {
   "cell_type": "code",
   "execution_count": 28,
   "metadata": {},
   "outputs": [
    {
     "data": {
      "text/plain": [
       "[52.67,\n",
       " 52.67,\n",
       " 50.27,\n",
       " 50.27,\n",
       " 43.98,\n",
       " 43.98,\n",
       " 42.63,\n",
       " 50.0,\n",
       " 50.0,\n",
       " 45.95,\n",
       " 45.95,\n",
       " 43.35,\n",
       " 43.35,\n",
       " 43.35,\n",
       " 49.73,\n",
       " 49.73,\n",
       " 47.17,\n",
       " 47.17,\n",
       " 47.17,\n",
       " 47.17,\n",
       " 52.71,\n",
       " 52.71,\n",
       " 52.71,\n",
       " 51.51,\n",
       " 51.51,\n",
       " 52.83,\n",
       " 57.47,\n",
       " 57.47,\n",
       " 61.28,\n",
       " 61.28,\n",
       " 58.11]"
      ]
     },
     "execution_count": 28,
     "metadata": {},
     "output_type": "execute_result"
    }
   ],
   "source": [
    "list(df[\"fully_exploited\"])"
   ]
  },
  {
   "cell_type": "code",
   "execution_count": 29,
   "metadata": {},
   "outputs": [
    {
     "data": {
      "text/plain": [
       "[30.67,\n",
       " 30.67,\n",
       " 31.55,\n",
       " 31.55,\n",
       " 31.41,\n",
       " 31.41,\n",
       " 30.53,\n",
       " 31.38,\n",
       " 31.38,\n",
       " 29.28,\n",
       " 29.28,\n",
       " 29.61,\n",
       " 29.61,\n",
       " 29.61,\n",
       " 26.63,\n",
       " 26.63,\n",
       " 25.4,\n",
       " 25.4,\n",
       " 25.4,\n",
       " 25.4,\n",
       " 22.92,\n",
       " 22.92,\n",
       " 22.92,\n",
       " 20.52,\n",
       " 20.52,\n",
       " 14.68,\n",
       " 12.66,\n",
       " 12.66,\n",
       " 9.98,\n",
       " 9.98,\n",
       " 10.53]"
      ]
     },
     "execution_count": 29,
     "metadata": {},
     "output_type": "execute_result"
    }
   ],
   "source": [
    "list(df[\"not_fully_exploited\"])"
   ]
  },
  {
   "cell_type": "code",
   "execution_count": 30,
   "metadata": {},
   "outputs": [
    {
     "data": {
      "text/plain": [
       "[16.67,\n",
       " 16.67,\n",
       " 18.18,\n",
       " 18.18,\n",
       " 24.61,\n",
       " 24.61,\n",
       " 26.84,\n",
       " 18.62,\n",
       " 18.62,\n",
       " 24.77,\n",
       " 24.77,\n",
       " 27.04,\n",
       " 27.04,\n",
       " 27.04,\n",
       " 23.64,\n",
       " 23.64,\n",
       " 27.44,\n",
       " 27.44,\n",
       " 27.44,\n",
       " 27.44,\n",
       " 24.38,\n",
       " 24.38,\n",
       " 24.38,\n",
       " 27.97,\n",
       " 27.97,\n",
       " 32.49,\n",
       " 29.87,\n",
       " 29.87,\n",
       " 28.74,\n",
       " 28.74,\n",
       " 31.36]"
      ]
     },
     "execution_count": 30,
     "metadata": {},
     "output_type": "execute_result"
    }
   ],
   "source": [
    "list(df[\"overexploited\"])"
   ]
  },
  {
   "cell_type": "code",
   "execution_count": 12,
   "metadata": {},
   "outputs": [],
   "source": [
    "df.to_csv(\"data/fishing.csv\")"
   ]
  },
  {
   "cell_type": "code",
   "execution_count": null,
   "metadata": {},
   "outputs": [],
   "source": []
  }
 ],
 "metadata": {
  "kernelspec": {
   "display_name": "Python 3",
   "language": "python",
   "name": "python3"
  },
  "language_info": {
   "codemirror_mode": {
    "name": "ipython",
    "version": 3
   },
   "file_extension": ".py",
   "mimetype": "text/x-python",
   "name": "python",
   "nbconvert_exporter": "python",
   "pygments_lexer": "ipython3",
   "version": "3.6.8"
  }
 },
 "nbformat": 4,
 "nbformat_minor": 2
}
